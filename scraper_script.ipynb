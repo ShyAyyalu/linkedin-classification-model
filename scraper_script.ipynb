{
 "cells": [
  {
   "cell_type": "code",
   "execution_count": 80,
   "metadata": {},
   "outputs": [],
   "source": [
    "#imports parameters file which are is LinkedIn username and password for protection\n",
    "import parameters as p\n",
    "#not necessary\n",
    "from time import sleep\n",
    "from selenium import webdriver\n",
    "from bs4 import BeautifulSoup as bs\n",
    "\n",
    "#utilize webdriver to log into LinkedIn\n",
    "driver = webdriver.Chrome('/Users/shailesh/Documents/chromedriver')\n",
    "\n",
    "driver.get('https://www.Linkedin.com')"
   ]
  },
  {
   "cell_type": "code",
   "execution_count": 81,
   "metadata": {},
   "outputs": [],
   "source": [
    "#p.ln_user = LN username\n",
    "username = driver.find_element_by_name('session_key')\n",
    "username.send_keys(p.ln_user)\n",
    "\n",
    "#p.ln_password = LN password\n",
    "username = driver.find_element_by_name('session_password')\n",
    "username.send_keys(p.ln_ps)"
   ]
  },
  {
   "cell_type": "code",
   "execution_count": 82,
   "metadata": {},
   "outputs": [],
   "source": [
    "#clicks submit button for login\n",
    "login = driver.find_element_by_class_name('sign-in-form__submit-btn')\n",
    "login.click()"
   ]
  },
  {
   "cell_type": "code",
   "execution_count": 92,
   "metadata": {},
   "outputs": [
    {
     "name": "stdout",
     "output_type": "stream",
     "text": [
      "Company Name(Use dashes in place of '.' | If done, enter -1): parkmycloud\n",
      "Name: ParkMyCloud\n",
      "Headquarters: Sterling, Virginia\n",
      "Founding Year: 2015\n",
      "Number of Employees: 2-10 employees\n",
      "Overview: \n",
      "ParkMyCloud, a Turbonomic company, provides an easy-to-use platform that helps enterprises automatically identify and eliminate wasted cloud spend. More than 1,000 enterprises around the world - including Sysco, Workfront, Hitachi ID Systems, Sage Software, and National Geographic - trust ParkMyCloud to cut their cloud spend by millions of dollars annually. ParkMyCloud’s SaaS offering allows enterprises to easily manage, govern, and optimize their spend across multiple public clouds. For more information, visit www.parkmycloud.com.\n",
      "\n",
      "Industry: Computer Software\n",
      "Specifications: cloud computing, amazon web services, cloud, Microsoft Azure, AWS, Azure, cost optimization, cloud optimization, google cloud platform, AWS RDS, google compute engine, alibaba cloud, and devops\n",
      "Number of Funding Rounds: 4\n",
      "Total Funding Amount: $3.3M\n"
     ]
    }
   ],
   "source": [
    "    #name = ['hive9', 'Lucd','Loadbalancer-org', 'ParkMyCloud', 'Rigado', 'FileCloud']\n",
    "    #name is input for company name\n",
    "    #can be replaced with an array and iterated through\n",
    "    name = input(\"Company Name(Use dashes in place of '.' | If done, enter -1): \")\n",
    "    url = 'https://www.linkedin.com/company/'+ name + '/about/'\n",
    "    if(name == -1):\n",
    "        driver.quit()\n",
    "    else:\n",
    "    \n",
    "        driver.get(url)\n",
    "        r = driver.page_source\n",
    "        #utilizes beautifulsoup to sift through source code\n",
    "        soup = bs(r, 'html5lib')\n",
    "\n",
    "        #Company Name\n",
    "        name = soup.find('h1', attrs={'class': 'org-top-card-summary__title t-24 t-black truncate'}) ['title']\n",
    "        print('Name: ' + name)\n",
    "\n",
    "        #headquarters\n",
    "        hq = soup.find_all('div', attrs={'class': 'org-top-card-summary-info-list__info-item'})[1].getText()\n",
    "        hq = hq.strip()\n",
    "        print('Headquarters: ' + hq)\n",
    "\n",
    "        #year founded\n",
    "        yearFounded = soup.find_all('dd', attrs={'class': 'org-page-details__definition-text t-14 t-black--light t-normal'})[-2].getText()\n",
    "        yearFounded = yearFounded.strip()\n",
    "        print('Founding Year: ' + yearFounded)\n",
    "\n",
    "        #num of employees\n",
    "        numEmployees = soup.find('dd', attrs={'class': 'org-about-company-module__company-size-definition-text t-14 t-black--light mb1 fl'}).getText()\n",
    "        numEmployees = numEmployees.strip()\n",
    "        print('Number of Employees: ' + numEmployees)\n",
    "\n",
    "        #overview\n",
    "        overview = soup.find('p', attrs={'class': 'break-words white-space-pre-wrap mb5 t-14 t-black--light t-normal'}).getText()\n",
    "        overview = overview.strip()\n",
    "        print('Overview: \\n' + overview)\n",
    "\n",
    "        #industry\n",
    "        industry = soup.find_all('div', attrs={'class': 'org-top-card-summary-info-list__info-item'})[0].getText()\n",
    "        industry = industry.strip()\n",
    "        print('\\nIndustry: ' + industry)\n",
    "\n",
    "        #specialties\n",
    "        specs = soup.find_all('dd', attrs={'class': 'org-page-details__definition-text t-14 t-black--light t-normal'})[-1].getText()\n",
    "        specs = specs.strip()\n",
    "        print('Specifications: ' + specs)\n",
    "\n",
    "        #capital raised $ & round type\n",
    "        try:\n",
    "            cb_link = soup.find('a', attrs={'data-control-name': 'funding_all_rounds_link'}) ['href']\n",
    "            driver.get(cb_link)\n",
    "            r = driver.page_source\n",
    "            soup = bs(r, 'html5lib')\n",
    "            #print('cb_link')\n",
    "            try:\n",
    "                #Number of Funding Rounds\n",
    "                numFundRounds = soup.find_all('span', attrs={'class': 'bigValueItemLabelOrData flex-none layout-column layout-align-center-start'})[0].getText()\n",
    "                numFundRounds = numFundRounds.strip()\n",
    "                print('Number of Funding Rounds: ' + numFundRounds)\n",
    "            except:\n",
    "                print('Funding Round Data Not Available')\n",
    "            try:\n",
    "                #Total Funding Amount\n",
    "                totFundAmt = soup.find_all('span', attrs={'class': 'bigValueItemLabelOrData flex-none layout-column layout-align-center-start'})[1].getText()\n",
    "                totFundAmt = totFundAmt.strip()\n",
    "                print('Total Funding Amount: ' + totFundAmt)\n",
    "            except:\n",
    "                print('Funding Amount Data Not Available')\n",
    "        except:\n",
    "            print('Funding Data Not Available on LinkedIn')\n",
    "        "
   ]
  },
  {
   "cell_type": "code",
   "execution_count": null,
   "metadata": {},
   "outputs": [],
   "source": []
  },
  {
   "cell_type": "code",
   "execution_count": null,
   "metadata": {},
   "outputs": [],
   "source": []
  }
 ],
 "metadata": {
  "kernelspec": {
   "display_name": "Python 3",
   "language": "python",
   "name": "python3"
  },
  "language_info": {
   "codemirror_mode": {
    "name": "ipython",
    "version": 3
   },
   "file_extension": ".py",
   "mimetype": "text/x-python",
   "name": "python",
   "nbconvert_exporter": "python",
   "pygments_lexer": "ipython3",
   "version": "3.7.4"
  }
 },
 "nbformat": 4,
 "nbformat_minor": 2
}
